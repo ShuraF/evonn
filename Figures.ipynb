{
 "cells": [
  {
   "cell_type": "code",
   "execution_count": null,
   "metadata": {},
   "outputs": [],
   "source": [
    "import numpy as np\n",
    "import matplotlib.pyplot as plt\n",
    "from matplotlib import rcParams\n",
    "import pickle\n",
    "import time\n",
    "import sys\n",
    "import h5py\n",
    "import os\n",
    "import matplotlib.animation as animation\n",
    "from matplotlib import style\n",
    "import glob\n",
    "from scipy import stats\n"
   ]
  },
  {
   "cell_type": "code",
   "execution_count": null,
   "metadata": {},
   "outputs": [],
   "source": [
    "# Create the plot with a specific figure size adhering to Nature guidelines\n",
    "fig, ax = plt.subplots(figsize=(3.5, 2.5))\n",
    "\n",
    "# Load data from the first run\n",
    "dat = np.loadtxt('RunName/RunName_1.2_0_0.8_1.0')\n",
    "lbl = \"1st run\"\n",
    "# Plot the data for the first run\n",
    "ax.plot(dat[:,0], dat[:,1], 'r-', label=lbl)  # Adjust line width as needed\n",
    "\n",
    "# Load data from the second run\n",
    "dat = np.loadtxt('RunName/RunName_1.2_1_0.8_1.0')\n",
    "lbl = \"2nd run\"\n",
    "# Plot the data for the second run\n",
    "ax.plot(dat[:,0], dat[:,1], 'b-', label=lbl)  # Adjust line width as needed\n",
    "\n",
    "# Set labels and limits for the plot\n",
    "ax.set_xlabel('Generation')\n",
    "ax.set_ylabel('Cooperation')\n",
    "ax.set_ylim([0, 1])\n",
    "\n",
    "# Display the plot\n",
    "plt.show()"
   ]
  },
  {
   "cell_type": "code",
   "execution_count": null,
   "metadata": {},
   "outputs": [],
   "source": [
    "# Load HDF5 data file\n",
    "filename = 'RunName/RunName_1.2_1_0.835008.hdf5'\n",
    "data_file = h5py.File(filename, \"r\")\n",
    "\n",
    "# Extract response data from the HDF5 file\n",
    "respf90 = np.array(data_file.get('resps'))\n",
    "data_file.close()\n",
    "\n",
    "# Prepare data for scatter plot\n",
    "x = np.ravel(respf90.T)\n",
    "y = np.ravel(respf90.T.T)\n",
    "\n",
    "# Create a new figure for the scatter plot\n",
    "fig, ax = plt.subplots()\n",
    "\n",
    "# Calculate the point density\n",
    "xy = np.vstack([x, y])\n",
    "z = stats.gaussian_kde(xy)(xy)\n",
    "\n",
    "# Create a scatter plot with color indicating density\n",
    "ax.scatter(x, y, c=z)\n",
    "\n",
    "# Set labels and limits for the scatter plot\n",
    "ax.set_xlim([0, 1])\n",
    "ax.set_ylim([0, 1])\n",
    "ax.set_xlabel('Cooperation A', fontsize=12)\n",
    "ax.set_ylabel('Cooperation B', fontsize=12)\n",
    "\n",
    "# Display the scatter plot\n",
    "plt.show()"
   ]
  },
  {
   "cell_type": "code",
   "execution_count": null,
   "metadata": {},
   "outputs": [],
   "source": []
  }
 ],
 "metadata": {
  "kernelspec": {
   "display_name": "Python 3",
   "language": "python",
   "name": "python3"
  },
  "language_info": {
   "codemirror_mode": {
    "name": "ipython",
    "version": 3
   },
   "file_extension": ".py",
   "mimetype": "text/x-python",
   "name": "python",
   "nbconvert_exporter": "python",
   "pygments_lexer": "ipython3",
   "version": "3.9.18"
  }
 },
 "nbformat": 4,
 "nbformat_minor": 2
}
